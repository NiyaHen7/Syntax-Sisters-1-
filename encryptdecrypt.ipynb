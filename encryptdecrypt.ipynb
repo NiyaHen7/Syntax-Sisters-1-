{
  "nbformat": 4,
  "nbformat_minor": 0,
  "metadata": {
    "colab": {
      "provenance": []
    },
    "kernelspec": {
      "name": "python3",
      "display_name": "Python 3"
    },
    "language_info": {
      "name": "python"
    }
  },
  "cells": [
    {
      "cell_type": "code",
      "source": [
        "pip install presidio-anonymizer"
      ],
      "metadata": {
        "colab": {
          "base_uri": "https://localhost:8080/"
        },
        "id": "EomGMzume5tj",
        "outputId": "b9f60008-a558-4f9e-e42a-a4da7b551bb2"
      },
      "execution_count": 2,
      "outputs": [
        {
          "output_type": "stream",
          "name": "stdout",
          "text": [
            "Collecting presidio-anonymizer\n",
            "  Downloading presidio_anonymizer-2.2.357-py3-none-any.whl.metadata (8.2 kB)\n",
            "Collecting azure-core (from presidio-anonymizer)\n",
            "  Downloading azure_core-1.32.0-py3-none-any.whl.metadata (39 kB)\n",
            "Collecting pycryptodome>=3.10.1 (from presidio-anonymizer)\n",
            "  Downloading pycryptodome-3.21.0-cp36-abi3-manylinux_2_17_x86_64.manylinux2014_x86_64.whl.metadata (3.4 kB)\n",
            "Requirement already satisfied: requests>=2.21.0 in /usr/local/lib/python3.11/dist-packages (from azure-core->presidio-anonymizer) (2.32.3)\n",
            "Requirement already satisfied: six>=1.11.0 in /usr/local/lib/python3.11/dist-packages (from azure-core->presidio-anonymizer) (1.17.0)\n",
            "Requirement already satisfied: typing-extensions>=4.6.0 in /usr/local/lib/python3.11/dist-packages (from azure-core->presidio-anonymizer) (4.12.2)\n",
            "Requirement already satisfied: charset-normalizer<4,>=2 in /usr/local/lib/python3.11/dist-packages (from requests>=2.21.0->azure-core->presidio-anonymizer) (3.4.1)\n",
            "Requirement already satisfied: idna<4,>=2.5 in /usr/local/lib/python3.11/dist-packages (from requests>=2.21.0->azure-core->presidio-anonymizer) (3.10)\n",
            "Requirement already satisfied: urllib3<3,>=1.21.1 in /usr/local/lib/python3.11/dist-packages (from requests>=2.21.0->azure-core->presidio-anonymizer) (2.3.0)\n",
            "Requirement already satisfied: certifi>=2017.4.17 in /usr/local/lib/python3.11/dist-packages (from requests>=2.21.0->azure-core->presidio-anonymizer) (2025.1.31)\n",
            "Downloading presidio_anonymizer-2.2.357-py3-none-any.whl (31 kB)\n",
            "Downloading pycryptodome-3.21.0-cp36-abi3-manylinux_2_17_x86_64.manylinux2014_x86_64.whl (2.3 MB)\n",
            "\u001b[2K   \u001b[90m━━━━━━━━━━━━━━━━━━━━━━━━━━━━━━━━━━━━━━━━\u001b[0m \u001b[32m2.3/2.3 MB\u001b[0m \u001b[31m38.1 MB/s\u001b[0m eta \u001b[36m0:00:00\u001b[0m\n",
            "\u001b[?25hDownloading azure_core-1.32.0-py3-none-any.whl (198 kB)\n",
            "\u001b[2K   \u001b[90m━━━━━━━━━━━━━━━━━━━━━━━━━━━━━━━━━━━━━━━━\u001b[0m \u001b[32m198.9/198.9 kB\u001b[0m \u001b[31m15.5 MB/s\u001b[0m eta \u001b[36m0:00:00\u001b[0m\n",
            "\u001b[?25hInstalling collected packages: pycryptodome, azure-core, presidio-anonymizer\n",
            "Successfully installed azure-core-1.32.0 presidio-anonymizer-2.2.357 pycryptodome-3.21.0\n"
          ]
        }
      ]
    },
    {
      "cell_type": "code",
      "execution_count": 8,
      "metadata": {
        "id": "JO2yzidJepHl"
      },
      "outputs": [],
      "source": [
        "from presidio_anonymizer import AnonymizerEngine, DeanonymizeEngine\n",
        "from presidio_anonymizer.entities import (\n",
        "    RecognizerResult,\n",
        "    OperatorResult,\n",
        "    OperatorConfig,\n",
        ")\n",
        "\n",
        "crypto_key = \"WmZq4t7w!z%C&F)J\"\n",
        "\n",
        "engine = AnonymizerEngine()\n",
        "\n",
        "# Invoke the anonymize function with the text,\n",
        "# analyzer results (potentially coming from presidio-analyzer)\n",
        "# and an 'encrypt' operator to get an encrypted anonymization output:\n",
        "anonymize_result = engine.anonymize(\n",
        "    text=\"My name is James Bond\",\n",
        "    analyzer_results=[\n",
        "        RecognizerResult(entity_type=\"PERSON\", start=11, end=21, score=0.8),\n",
        "    ],\n",
        "    operators={\"PERSON\": OperatorConfig(\"encrypt\", {\"key\": crypto_key})},\n",
        ")\n",
        "\n",
        "\n",
        "# Fetch the anonymized text from the result.\n",
        "anonymized_text = anonymize_result.text\n",
        "\n",
        "# Fetch the anonynized entities from the result.\n",
        "anonymized_entities = anonymize_result.items"
      ]
    },
    {
      "cell_type": "code",
      "source": [
        "print(anonymized_text)\n",
        "print(anonymized_entities)"
      ],
      "metadata": {
        "colab": {
          "base_uri": "https://localhost:8080/"
        },
        "id": "nHFUoclgfCvr",
        "outputId": "ec9d3424-9fb2-4e99-bd3a-fcc0cc17cc59"
      },
      "execution_count": 10,
      "outputs": [
        {
          "output_type": "stream",
          "name": "stdout",
          "text": [
            "My name is QbDMcebDkwvYzLBVrpZH0IpEcmnB2sn2PM6FQ0cVUkE=\n",
            "[{'start': 11, 'end': 55, 'entity_type': 'PERSON', 'text': 'QbDMcebDkwvYzLBVrpZH0IpEcmnB2sn2PM6FQ0cVUkE=', 'operator': 'encrypt'}]\n"
          ]
        }
      ]
    },
    {
      "cell_type": "code",
      "source": [
        "engine = DeanonymizeEngine()\n",
        "\n",
        "# Invoke the deanonymize function with the text, anonymizer results\n",
        "# and a 'decrypt' operator to get the original text as output.\n",
        "deanonymized_result = engine.deanonymize(\n",
        "    text=anonymized_text,\n",
        "    entities=anonymized_entities,\n",
        "    operators={\"DEFAULT\": OperatorConfig(\"decrypt\", {\"key\": crypto_key})},\n",
        ")\n",
        "\n",
        "print(deanonymized_result)"
      ],
      "metadata": {
        "colab": {
          "base_uri": "https://localhost:8080/"
        },
        "id": "YypOjt7Ff-aG",
        "outputId": "6b13580f-2791-44de-a298-ec549976d42a"
      },
      "execution_count": 12,
      "outputs": [
        {
          "output_type": "stream",
          "name": "stdout",
          "text": [
            "text: My name is James Bond\n",
            "items:\n",
            "[\n",
            "    {'start': 11, 'end': 21, 'entity_type': 'PERSON', 'text': 'James Bond', 'operator': 'decrypt'}\n",
            "]\n",
            "\n"
          ]
        }
      ]
    }
  ]
}